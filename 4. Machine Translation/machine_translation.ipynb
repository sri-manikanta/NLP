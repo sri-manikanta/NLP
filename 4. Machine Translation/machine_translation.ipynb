{
 "cells": [
  {
   "cell_type": "markdown",
   "metadata": {},
   "source": [
    "English to French Translation"
   ]
  },
  {
   "cell_type": "code",
   "execution_count": null,
   "metadata": {},
   "outputs": [],
   "source": [
    "import tensorflow as tf\n",
    "from tensorflow.keras.layers import Input, LSTM, Embedding, Dense\n",
    "from tensorflow.keras.models import Model\n",
    "from tensorflow.keras.preprocessing.text import Tokenizer\n",
    "from tensorflow.keras.preprocessing.sequence import pad_sequences"
   ]
  },
  {
   "cell_type": "code",
   "execution_count": null,
   "metadata": {},
   "outputs": [],
   "source": [
    "# Sample dataset\n",
    "input_texts = [\"Hello\", \"How are you?\", \"Good morning\"]\n",
    "target_texts = [\"Bonjour\", \"Comment ça va?\", \"Bon matin\"]"
   ]
  },
  {
   "cell_type": "code",
   "execution_count": null,
   "metadata": {},
   "outputs": [],
   "source": [
    "# Tokenize data\n",
    "tokenizer = Tokenizer()\n",
    "tokenizer.fit_on_texts(input_texts + target_texts)\n",
    "input_sequences = tokenizer.texts_to_sequences(input_texts)\n",
    "target_sequences = tokenizer.texts_to_sequences(target_texts)"
   ]
  },
  {
   "cell_type": "code",
   "execution_count": null,
   "metadata": {},
   "outputs": [],
   "source": [
    "# Pad sequences\n",
    "input_sequences = pad_sequences(input_sequences, padding='post')\n",
    "target_sequences = pad_sequences(target_sequences, padding='post')"
   ]
  },
  {
   "cell_type": "code",
   "execution_count": null,
   "metadata": {},
   "outputs": [],
   "source": [
    "# Build model\n",
    "input_seq = Input(shape=(None,))\n",
    "target_seq = Input(shape=(None,))\n",
    "embedding_layer = Embedding(len(tokenizer.word_index) + 1, 50)\n",
    "lstm_layer = LSTM(256, return_sequences=True, return_state=True)\n",
    "dense_layer = Dense(len(tokenizer.word_index) + 1, activation='softmax')"
   ]
  },
  {
   "cell_type": "code",
   "execution_count": null,
   "metadata": {},
   "outputs": [],
   "source": [
    "input_embed = embedding_layer(input_seq)\n",
    "target_embed = embedding_layer(target_seq)"
   ]
  },
  {
   "cell_type": "code",
   "execution_count": null,
   "metadata": {},
   "outputs": [],
   "source": [
    "lstm_output, _, _ = lstm_layer(input_embed)\n",
    "output = dense_layer(lstm_output)"
   ]
  },
  {
   "cell_type": "code",
   "execution_count": null,
   "metadata": {},
   "outputs": [],
   "source": [
    "model = Model([input_seq, target_seq], output)\n",
    "model.compile(optimizer='adam', loss='sparse_categorical_crossentropy')\n",
    "model.summary()"
   ]
  }
 ],
 "metadata": {
  "language_info": {
   "name": "python"
  }
 },
 "nbformat": 4,
 "nbformat_minor": 2
}
